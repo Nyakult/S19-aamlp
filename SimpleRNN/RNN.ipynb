{
 "cells": [
  {
   "cell_type": "code",
   "execution_count": 1,
   "metadata": {},
   "outputs": [
    {
     "name": "stderr",
     "output_type": "stream",
     "text": [
      "Using TensorFlow backend.\n"
     ]
    }
   ],
   "source": [
    "#RNN\n",
    "import librosa\n",
    "import pandas as pd\n",
    "import numpy as np\n",
    "import IPython.display as ipd\n",
    "import matplotlib.pyplot as plt\n",
    "\n",
    "#Keras\n",
    "import keras"
   ]
  },
  {
   "cell_type": "code",
   "execution_count": 2,
   "metadata": {},
   "outputs": [],
   "source": [
    "x_path = 'music/music_x'\n",
    "y_path = 'music/music_y'"
   ]
  },
  {
   "cell_type": "code",
   "execution_count": 3,
   "metadata": {},
   "outputs": [],
   "source": [
    "file_names = ['周杰伦 - 千里之外.mp3',\n",
    "'周杰伦 - 听妈妈的话.mp3',\n",
    "'周杰伦 - 夜的第七章.mp3',\n",
    "'周杰伦 - 心雨.mp3',\n",
    "'周杰伦 - 本草纲目.mp3',\n",
    "'周杰伦 - 白色风车.mp3',\n",
    "'周杰伦 - 红模仿.mp3',\n",
    "'周杰伦 - 菊花台 (《满城尽带黄金甲》电影片尾曲).mp3',\n",
    "'周杰伦 - 迷迭香.mp3',\n",
    "'周杰伦 - 退后.mp3']"
   ]
  },
  {
   "cell_type": "code",
   "execution_count": 4,
   "metadata": {},
   "outputs": [],
   "source": [
    "# Prep data\n",
    "time_steps = 100\n",
    "X_train=np.zeros((1,time_steps,1))\n",
    "Y_train=np.zeros((1,time_steps,1))"
   ]
  },
  {
   "cell_type": "code",
   "execution_count": 5,
   "metadata": {},
   "outputs": [
    {
     "name": "stdout",
     "output_type": "stream",
     "text": [
      "loading 周杰伦 - 千里之外.mp3\n",
      "loading 周杰伦 - 听妈妈的话.mp3\n",
      "loading 周杰伦 - 夜的第七章.mp3\n",
      "loading 周杰伦 - 心雨.mp3\n",
      "loading 周杰伦 - 本草纲目.mp3\n",
      "loading 周杰伦 - 白色风车.mp3\n",
      "loading 周杰伦 - 红模仿.mp3\n",
      "loading 周杰伦 - 菊花台 (《满城尽带黄金甲》电影片尾曲).mp3\n",
      "loading 周杰伦 - 迷迭香.mp3\n",
      "loading 周杰伦 - 退后.mp3\n"
     ]
    }
   ],
   "source": [
    "for file in file_names:\n",
    "    print('loading',file)\n",
    "    try:\n",
    "        y, sr = librosa.load(y_path+'/'+file, mono=True)\n",
    "        yc, sr = librosa.load(x_path+'/'+file, mono=True)\n",
    "    \n",
    "        music_length = len(y)\n",
    "        sequence_size = int(music_length/time_steps)\n",
    "    \n",
    "        x_train = np.zeros((sequence_size,time_steps))\n",
    "        y_train = np.zeros((sequence_size,time_steps))\n",
    "    \n",
    "        for i in range(sequence_size):\n",
    "            x_train[i] = yc[time_steps*i:time_steps*(i+1)]\n",
    "            y_train[i] = y[time_steps*i:time_steps*(i+1)]\n",
    "            \n",
    "  \n",
    "        x_train = x_train.reshape(sequence_size,time_steps,1)[100:-100]\n",
    "        y_train = y_train.reshape(sequence_size,time_steps,1)[100:-100]\n",
    "    \n",
    "    \n",
    "        X_train = np.concatenate((X_train,x_train))\n",
    "        Y_train = np.concatenate((Y_train,y_train))\n",
    "    \n",
    "    except IsADirectoryError:\n",
    "        pass\n",
    "    except FileNotFoundError:\n",
    "        pass\n",
    "\n",
    "l = int(len(X_train)*0.2)\n",
    "\n",
    "X_test = X_train[:l]\n",
    "Y_test = Y_train[:l]\n",
    "\n",
    "X_train = X_train[l:]\n",
    "Y_train = Y_train[l:]\n"
   ]
  },
  {
   "cell_type": "code",
   "execution_count": 6,
   "metadata": {},
   "outputs": [],
   "source": [
    "# prepare for model\n",
    "input_size = 1\n",
    "output_size = 1\n",
    "hidden_units = 128\n",
    "LR = 0.006\n",
    "batch_size = 128"
   ]
  },
  {
   "cell_type": "code",
   "execution_count": 7,
   "metadata": {},
   "outputs": [
    {
     "name": "stdout",
     "output_type": "stream",
     "text": [
      "WARNING:tensorflow:From C:\\Users\\nicwe\\Anaconda3\\lib\\site-packages\\tensorflow\\python\\framework\\op_def_library.py:263: colocate_with (from tensorflow.python.framework.ops) is deprecated and will be removed in a future version.\n",
      "Instructions for updating:\n",
      "Colocations handled automatically by placer.\n"
     ]
    }
   ],
   "source": [
    "from keras.layers import SimpleRNN, Activation, TimeDistributed, Masking,Dense,LSTM\n",
    "from keras.models import Sequential\n",
    "\n",
    "\n",
    "model = Sequential()\n",
    "model.add(SimpleRNN(units=hidden_units, return_sequences=True,stateful=True,\n",
    "                    batch_input_shape = (batch_size,time_steps,input_size)))\n",
    "model.add(Dense(units=128,activation='tanh'))\n",
    "model.add(TimeDistributed(Dense(units = output_size)))"
   ]
  },
  {
   "cell_type": "code",
   "execution_count": 8,
   "metadata": {},
   "outputs": [],
   "source": [
    "model.compile(optimizer=keras.optimizers.Adam(LR),\n",
    "              loss='mean_squared_error',\n",
    "              metrics=['accuracy'])"
   ]
  },
  {
   "cell_type": "code",
   "execution_count": 9,
   "metadata": {},
   "outputs": [
    {
     "name": "stdout",
     "output_type": "stream",
     "text": [
      "_________________________________________________________________\n",
      "Layer (type)                 Output Shape              Param #   \n",
      "=================================================================\n",
      "simple_rnn_1 (SimpleRNN)     (128, 100, 128)           16640     \n",
      "_________________________________________________________________\n",
      "dense_1 (Dense)              (128, 100, 128)           16512     \n",
      "_________________________________________________________________\n",
      "time_distributed_1 (TimeDist (128, 100, 1)             129       \n",
      "=================================================================\n",
      "Total params: 33,281\n",
      "Trainable params: 33,281\n",
      "Non-trainable params: 0\n",
      "_________________________________________________________________\n"
     ]
    }
   ],
   "source": [
    "model.summary()"
   ]
  },
  {
   "cell_type": "code",
   "execution_count": 10,
   "metadata": {},
   "outputs": [
    {
     "data": {
      "text/plain": [
       "(438554, 100, 1)"
      ]
     },
     "execution_count": 10,
     "metadata": {},
     "output_type": "execute_result"
    }
   ],
   "source": [
    "X_train.shape"
   ]
  },
  {
   "cell_type": "code",
   "execution_count": 11,
   "metadata": {},
   "outputs": [
    {
     "name": "stdout",
     "output_type": "stream",
     "text": [
      "3426\n",
      "WARNING:tensorflow:From C:\\Users\\nicwe\\Anaconda3\\lib\\site-packages\\tensorflow\\python\\ops\\math_ops.py:3066: to_int32 (from tensorflow.python.ops.math_ops) is deprecated and will be removed in a future version.\n",
      "Instructions for updating:\n",
      "Use tf.cast instead.\n",
      "0 3426\n",
      "250 3426\n",
      "500 3426\n",
      "750 3426\n",
      "1000 3426\n",
      "1250 3426\n",
      "1500 3426\n",
      "1750 3426\n",
      "2000 3426\n",
      "2250 3426\n",
      "2500 3426\n",
      "2750 3426\n",
      "3000 3426\n",
      "3250 3426\n"
     ]
    }
   ],
   "source": [
    "batch_start = 0\n",
    "sequence_size = len(X_train)\n",
    "l = int(sequence_size/batch_size)\n",
    "print(l)\n",
    "result = []\n",
    "for i in range(l):\n",
    "    x_batch = X_train[batch_start: batch_start+batch_size, :,:]\n",
    "    y_batch = Y_train[batch_start: batch_start+batch_size, :,:]\n",
    "    model.train_on_batch(x_batch,y_batch)\n",
    "    batch_start = batch_size*i+128\n",
    "    print(i,l) if i % 250 == 0 else i"
   ]
  },
  {
   "cell_type": "code",
   "execution_count": 12,
   "metadata": {
    "scrolled": true
   },
   "outputs": [
    {
     "name": "stdout",
     "output_type": "stream",
     "text": [
      "856\n",
      "0 856\n",
      "250 856\n",
      "500 856\n",
      "750 856\n"
     ]
    }
   ],
   "source": [
    "batch_start = 0\n",
    "sequence_size = len(X_test)\n",
    "l = int(sequence_size/batch_size)\n",
    "print(l)\n",
    "result = []\n",
    "for i in range(l):\n",
    "    x_batch = X_test[batch_start: batch_start+batch_size, :,:]\n",
    "    y_batch = model.predict_on_batch(x_batch)\n",
    "    result.append(y_batch)\n",
    "    batch_start = batch_size*i+128\n",
    "    print(i,l) if i % 250 == 0 else i"
   ]
  },
  {
   "cell_type": "code",
   "execution_count": 13,
   "metadata": {},
   "outputs": [],
   "source": [
    "result = np.array(result)"
   ]
  },
  {
   "cell_type": "code",
   "execution_count": 14,
   "metadata": {},
   "outputs": [],
   "source": [
    "Y_train = Y_train.flatten()\n",
    "X_train = X_train.flatten()\n",
    "Y_test = Y_test.flatten() # True Value\n",
    "X_test = X_test.flatten() # Starting Value\n",
    "result = result.flatten() # Predicted"
   ]
  },
  {
   "cell_type": "code",
   "execution_count": 15,
   "metadata": {},
   "outputs": [
    {
     "data": {
      "text/plain": [
       "(10956800,)"
      ]
     },
     "execution_count": 15,
     "metadata": {},
     "output_type": "execute_result"
    }
   ],
   "source": [
    "result.shape"
   ]
  },
  {
   "cell_type": "code",
   "execution_count": 16,
   "metadata": {},
   "outputs": [],
   "source": [
    "librosa.output.write_wav('Y_train.wav',Y_train,sr,norm=True)\n",
    "# ipd.Audio('Y_train.wav')"
   ]
  },
  {
   "cell_type": "code",
   "execution_count": 17,
   "metadata": {},
   "outputs": [],
   "source": [
    "librosa.output.write_wav('X_train.wav',X_train,sr,norm=True)\n",
    "# ipd.Audio('X_train.wav')"
   ]
  },
  {
   "cell_type": "code",
   "execution_count": 18,
   "metadata": {},
   "outputs": [],
   "source": [
    "librosa.output.write_wav('Y_test.wav',Y_test,sr,norm=True)\n",
    "# ipd.Audio('Y_test.wav')"
   ]
  },
  {
   "cell_type": "code",
   "execution_count": 19,
   "metadata": {},
   "outputs": [],
   "source": [
    "librosa.output.write_wav('X_test.wav',X_test,sr,norm=True)\n",
    "# ipd.Audio('X_test.wav')"
   ]
  },
  {
   "cell_type": "code",
   "execution_count": 20,
   "metadata": {},
   "outputs": [],
   "source": [
    "librosa.output.write_wav('result.wav',result,sr,norm=True)\n",
    "# ipd.Audio('result.wav')"
   ]
  },
  {
   "cell_type": "code",
   "execution_count": 21,
   "metadata": {},
   "outputs": [
    {
     "data": {
      "image/png": "[encoded data removed]",
      "text/plain": [
       "<Figure size 432x288 with 1 Axes>"
      ]
     },
     "metadata": {
      "needs_background": "light"
     },
     "output_type": "display_data"
    },
    {
     "data": {
      "image/png": "[encoded data removed]",
      "text/plain": [
       "<Figure size 432x288 with 1 Axes>"
      ]
     },
     "metadata": {
      "needs_background": "light"
     },
     "output_type": "display_data"
    },
    {
     "data": {
      "image/png": "[encoded data removed]",
      "text/plain": [
       "<Figure size 432x288 with 1 Axes>"
      ]
     },
     "metadata": {
      "needs_background": "light"
     },
     "output_type": "display_data"
    }
   ],
   "source": [
    "# compare original with new\n",
    "\n",
    "start = 0\n",
    "stop = sr*10\n",
    "\n",
    "#plt.figure(figsize=(20,10))\n",
    "\n",
    "plt.plot(Y_test[start:stop])\n",
    "plt.title(\"Original with Lyrics\")\n",
    "plt.show()\n",
    "\n",
    "# plt.figure(figsize=(20,10))\n",
    "\n",
    "plt.plot(X_test[start:stop])\n",
    "plt.title('Original without Lyrics')\n",
    "plt.show()\n",
    "\n",
    "plt.plot(result[start:stop])\n",
    "plt.title('Generated Music')\n",
    "plt.show()"
   ]
  }
 ],
 "metadata": {
  "kernelspec": {
   "display_name": "Python 3",
   "language": "python",
   "name": "python3"
  },
  "language_info": {
   "codemirror_mode": {
    "name": "ipython",
    "version": 3
   },
   "file_extension": ".py",
   "mimetype": "text/x-python",
   "name": "python",
   "nbconvert_exporter": "python",
   "pygments_lexer": "ipython3",
   "version": "3.7.1"
  }
 },
 "nbformat": 4,
 "nbformat_minor": 2
}
